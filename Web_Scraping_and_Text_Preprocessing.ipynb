{
  "nbformat": 4,
  "nbformat_minor": 0,
  "metadata": {
    "colab": {
      "provenance": [],
      "authorship_tag": "ABX9TyOYykK0zF4ZqqrKd+qsvXT/",
      "include_colab_link": true
    },
    "kernelspec": {
      "name": "python3",
      "display_name": "Python 3"
    },
    "language_info": {
      "name": "python"
    }
  },
  "cells": [
    {
      "cell_type": "markdown",
      "metadata": {
        "id": "view-in-github",
        "colab_type": "text"
      },
      "source": [
        "<a href=\"https://colab.research.google.com/github/DiaaEssam/Web-Scraping-and-Text-Preprocessing/blob/main/Web_Scraping_and_Text_Preprocessing.ipynb\" target=\"_parent\"><img src=\"https://colab.research.google.com/assets/colab-badge.svg\" alt=\"Open In Colab\"/></a>"
      ]
    },
    {
      "cell_type": "markdown",
      "source": [
        "# Importing libraries"
      ],
      "metadata": {
        "id": "0DRMYkKQgsZk"
      }
    },
    {
      "cell_type": "code",
      "execution_count": null,
      "metadata": {
        "id": "vgkwvAu5iPSK"
      },
      "outputs": [],
      "source": [
        "import requests\n",
        "from bs4 import BeautifulSoup\n",
        "import numpy as np\n",
        "import nltk\n",
        "from nltk.stem import SnowballStemmer\n",
        "import re"
      ]
    },
    {
      "cell_type": "markdown",
      "source": [
        "# Downloading corpus of stopping words"
      ],
      "metadata": {
        "id": "UPn7lzj8gyaT"
      }
    },
    {
      "cell_type": "code",
      "source": [
        "nltk.download('stopwords')\n",
        "stop_words = set(nltk.corpus.stopwords.words('english'))\n",
        "\"\"\"\n",
        "stopwords refers to a collection/corpus of commonly used words in a language (such as \"and\", \"the\", \"is\", etc.)\n",
        "that are often filtered out before or after processing of natural language data.\n",
        "\"\"\""
      ],
      "metadata": {
        "colab": {
          "base_uri": "https://localhost:8080/",
          "height": 90
        },
        "id": "VUuM5KBQ9-11",
        "outputId": "bedbc4e1-ac4f-4dfc-f446-89315fff037f"
      },
      "execution_count": null,
      "outputs": [
        {
          "output_type": "stream",
          "name": "stderr",
          "text": [
            "[nltk_data] Downloading package stopwords to /root/nltk_data...\n",
            "[nltk_data]   Unzipping corpora/stopwords.zip.\n"
          ]
        },
        {
          "output_type": "execute_result",
          "data": {
            "text/plain": [
              "'\\nstopwords refers to a collection/corpus of commonly used words in a language (such as \"and\", \"the\", \"is\", etc.)\\nthat are often filtered out before or after processing of natural language data.\\n'"
            ],
            "application/vnd.google.colaboratory.intrinsic+json": {
              "type": "string"
            }
          },
          "metadata": {},
          "execution_count": 2
        }
      ]
    },
    {
      "cell_type": "markdown",
      "source": [
        "# Function to get HTML from Page"
      ],
      "metadata": {
        "id": "Ms6yAZZpiHlc"
      }
    },
    {
      "cell_type": "code",
      "source": [
        "def get_HTML(page):\n",
        "    src = page.content\n",
        "    soup = BeautifulSoup(src,'lxml')\n",
        "\n",
        "    topics = soup.find_all('p',{'class':'topic-paragraph'})\n",
        "    return topics"
      ],
      "metadata": {
        "id": "vsc5KemNie_V"
      },
      "execution_count": null,
      "outputs": []
    },
    {
      "cell_type": "markdown",
      "source": [
        "# Identifying the used URL"
      ],
      "metadata": {
        "id": "qJEP47W6iVIc"
      }
    },
    {
      "cell_type": "code",
      "source": [
        "topics = get_HTML(requests.get(f\"https://www.britannica.com/technology/Tesla-coil\"))\n",
        "print(topics)"
      ],
      "metadata": {
        "colab": {
          "base_uri": "https://localhost:8080/"
        },
        "id": "BlBO6NgBkwED",
        "outputId": "ca7be154-89d1-498c-de33-06aaa7c2ca96"
      },
      "execution_count": null,
      "outputs": [
        {
          "output_type": "stream",
          "name": "stdout",
          "text": [
            "[<p class=\"topic-paragraph\"><strong><span id=\"ref1317582\"></span>Tesla coil</strong>,  an electrical <a class=\"md-crosslink\" data-show-preview=\"true\" href=\"https://www.britannica.com/technology/transformer-electronics\">transformer</a> that uses high-frequency <a class=\"md-crosslink\" data-show-preview=\"true\" href=\"https://www.britannica.com/science/alternating-current\">alternating current</a> (AC) to increase voltage. Because of its extremely high voltage, the <a class=\"md-crosslink\" data-show-preview=\"true\" href=\"https://www.britannica.com/science/electricity\">electricity</a> in a Tesla coil can travel through the air, powering—or damaging—nearby electronic devices, often with arcs of lightninglike electricity. Though the Tesla coil produces extremely high voltage, the high <a class=\"md-crosslink autoxref\" data-show-preview=\"true\" href=\"https://www.britannica.com/science/frequency-physics\">frequency</a> of the <a class=\"md-crosslink\" data-show-preview=\"true\" href=\"https://www.britannica.com/science/electric-current\">current</a> generally makes it possible for most people to approach the device and even be struck by the arcs without suffering injury. The spectacular effects created by the Tesla coil make the device popular for scientific exhibitions, but the principles <a class=\"md-dictionary-link md-dictionary-tt-off eb\" data-term=\"underlying\" data-type=\"EB\" href=\"https://www.britannica.com/dictionary/underlying\">underlying</a> the coil were also important to the development of <a class=\"md-crosslink\" data-show-preview=\"true\" href=\"https://www.britannica.com/technology/radio-technology\">radio technology</a>.</p>, <p class=\"topic-paragraph\">The Tesla coil was invented by Serbian American inventor <span id=\"ref1317583\"></span><a class=\"md-crosslink\" data-show-preview=\"true\" href=\"https://www.britannica.com/biography/Nikola-Tesla\">Nikola Tesla</a> in 1891. Tesla was primarily interested in its potential to wirelessly transmit electricity, particularly for <a class=\"md-crosslink autoxref\" data-show-preview=\"true\" href=\"https://www.britannica.com/technology/lighting\">lighting</a>. He hoped to build large coils scattered across Earth, each of which would provide power to any device with a receiver coil. However, he had little success with this plan.  In 1893 Tesla gave a lecture and demonstration on wireless transmission in which he proposed signal transmission in conjunction with power transmission. He also obtained a patent describing the same principles, which is considered the first radio patent.</p>, <p class=\"topic-paragraph\">A Tesla coil is an electrical transformer, or a device that raises or lowers voltage, which is a measure of electrical potential. A Tesla coil generates very high voltage, often in excess of one million volts.  It uses AC electricity, meaning that the voltage of the <a class=\"md-dictionary-link md-dictionary-tt-off eb\" data-term=\"circuit\" data-type=\"EB\" href=\"https://www.britannica.com/dictionary/circuit\">circuit</a> changes at a particular frequency. A modern Tesla coil usually consists of an initial <a class=\"md-crosslink\" data-show-preview=\"true\" href=\"https://www.britannica.com/technology/transformer-electronics\">transformer</a> that boosts voltage from the power source and sends it to a <a class=\"md-crosslink\" data-show-preview=\"true\" href=\"https://www.britannica.com/technology/capacitor\">capacitor</a> attached to the primary coil, which absorbs the high-voltage power. When the capacitor reaches a sufficiently high voltage, electricity flows across a spark gap, or a space between two high-conducting terminals, at a high frequency, creating an AC current in the primary coil.</p>, <p class=\"topic-paragraph\">One of the key principles of the Tesla coil is resonance—achieving the frequency at which the device’s primary coil induces maximum voltage in the secondary coil. This is achieved through magnetic coupling, also called inductive coupling. The two coils are not tied together with a conductor; rather, <a class=\"md-crosslink\" data-show-preview=\"true\" href=\"https://www.britannica.com/science/electricity\">electricity</a> is run through the primary coil, which creates a <a class=\"md-crosslink\" data-show-preview=\"true\" href=\"https://www.britannica.com/science/magnetic-field\">magnetic field</a>. This magnetic field creates an electrical current in the secondary coil, at a much higher voltage. To achieve this increase in voltage, the secondary coil must have many more windings than the primary coil. Frequently, the primary coil has only one or two windings, while the secondary may have hundreds or thousands. The secondary coil also contains a capacitor, which builds up extremely high voltage.</p>, <p class=\"topic-paragraph\">The resulting high voltage results in a magnetic field so strong that arcs of electricity flow like <a class=\"md-crosslink autoxref\" data-show-preview=\"true\" href=\"https://www.britannica.com/science/lightning-meteorology\">lightning</a> from the Tesla coil to nearby objects. These lightninglike <a class=\"md-dictionary-link md-dictionary-tt-off eb\" data-term=\"discharges\" data-type=\"EB\" href=\"https://www.britannica.com/dictionary/discharges\">discharges</a> can even flow to people, but this is usually dangerous only if a nearby person  has a <a class=\"md-crosslink\" data-show-preview=\"true\" href=\"https://www.britannica.com/technology/pacemaker-artificial\">pacemaker</a> or other medical device that could be affected by the Tesla coil. Though the voltages are very high,  the impedance of the coil is high enough that only a small current is produced in humans who interact with it, and the frequency of the current is such that it has little interaction with nerve cells. A popular demonstration of a Tesla coil is to have a person hold a metal rod in one hand and a <a class=\"md-crosslink\" data-show-preview=\"true\" href=\"https://www.britannica.com/technology/lightbulb\">lightbulb</a> in the other. Holding the rod close to the coil produces an arc of electricity that travels through the person’s body and lights the bulb. Fluorescent lightbulbs and other devices can also be powered by <a class=\"md-dictionary-link md-dictionary-tt-off eb\" data-term=\"proximity\" data-type=\"EB\" href=\"https://www.britannica.com/dictionary/proximity\">proximity</a> to the Tesla coil, even without drawing an arc. It was this ability to produce wireless power that Tesla found so compelling.</p>]\n"
          ]
        }
      ]
    },
    {
      "cell_type": "markdown",
      "source": [
        "# Cleaning"
      ],
      "metadata": {
        "id": "QpcQlOYV3avt"
      }
    },
    {
      "cell_type": "code",
      "source": [
        "topics = [topic.text.strip() for topic in topics]\n",
        "topics = [re.sub(r'[^a-zA-Z\\s]', '', topic) for topic in topics]\n",
        "print(topics)\n",
        "\"\"\"\n",
        "[^a-zA-Z0-9\\s]: This is the regular expression pattern itself,\n",
        "which matches any character that is not (^ inside square brackets negates the character class) a lowercase letter (a-z),\n",
        "an uppercase letter (A-Z), a digit (0-9), or whitespace (\\s).\n",
        "\"\"\""
      ],
      "metadata": {
        "colab": {
          "base_uri": "https://localhost:8080/",
          "height": 110
        },
        "id": "zYFTGYkklJGw",
        "outputId": "84125e49-efd5-4e26-ef42-fe9fdefa71bd"
      },
      "execution_count": null,
      "outputs": [
        {
          "output_type": "stream",
          "name": "stdout",
          "text": [
            "['Tesla coil,  an electrical transformer that uses high-frequency alternating current (AC) to increase voltage. Because of its extremely high voltage, the electricity in a Tesla coil can travel through the air, powering—or damaging—nearby electronic devices, often with arcs of lightninglike electricity. Though the Tesla coil produces extremely high voltage, the high frequency of the current generally makes it possible for most people to approach the device and even be struck by the arcs without suffering injury. The spectacular effects created by the Tesla coil make the device popular for scientific exhibitions, but the principles underlying the coil were also important to the development of radio technology.', 'The Tesla coil was invented by Serbian American inventor Nikola Tesla in 1891. Tesla was primarily interested in its potential to wirelessly transmit electricity, particularly for lighting. He hoped to build large coils scattered across Earth, each of which would provide power to any device with a receiver coil. However, he had little success with this plan.  In 1893 Tesla gave a lecture and demonstration on wireless transmission in which he proposed signal transmission in conjunction with power transmission. He also obtained a patent describing the same principles, which is considered the first radio patent.', 'A Tesla coil is an electrical transformer, or a device that raises or lowers voltage, which is a measure of electrical potential. A Tesla coil generates very high voltage, often in excess of one million volts.  It uses AC electricity, meaning that the voltage of the circuit changes at a particular frequency. A modern Tesla coil usually consists of an initial transformer that boosts voltage from the power source and sends it to a capacitor attached to the primary coil, which absorbs the high-voltage power. When the capacitor reaches a sufficiently high voltage, electricity flows across a spark gap, or a space between two high-conducting terminals, at a high frequency, creating an AC current in the primary coil.', 'One of the key principles of the Tesla coil is resonance—achieving the frequency at which the device’s primary coil induces maximum voltage in the secondary coil. This is achieved through magnetic coupling, also called inductive coupling. The two coils are not tied together with a conductor; rather, electricity is run through the primary coil, which creates a magnetic field. This magnetic field creates an electrical current in the secondary coil, at a much higher voltage. To achieve this increase in voltage, the secondary coil must have many more windings than the primary coil. Frequently, the primary coil has only one or two windings, while the secondary may have hundreds or thousands. The secondary coil also contains a capacitor, which builds up extremely high voltage.', 'The resulting high voltage results in a magnetic field so strong that arcs of electricity flow like lightning from the Tesla coil to nearby objects. These lightninglike discharges can even flow to people, but this is usually dangerous only if a nearby person  has a pacemaker or other medical device that could be affected by the Tesla coil. Though the voltages are very high,  the impedance of the coil is high enough that only a small current is produced in humans who interact with it, and the frequency of the current is such that it has little interaction with nerve cells. A popular demonstration of a Tesla coil is to have a person hold a metal rod in one hand and a lightbulb in the other. Holding the rod close to the coil produces an arc of electricity that travels through the person’s body and lights the bulb. Fluorescent lightbulbs and other devices can also be powered by proximity to the Tesla coil, even without drawing an arc. It was this ability to produce wireless power that Tesla found so compelling.']\n",
            "['Tesla coil  an electrical transformer that uses highfrequency alternating current AC to increase voltage Because of its extremely high voltage the electricity in a Tesla coil can travel through the air poweringor damagingnearby electronic devices often with arcs of lightninglike electricity Though the Tesla coil produces extremely high voltage the high frequency of the current generally makes it possible for most people to approach the device and even be struck by the arcs without suffering injury The spectacular effects created by the Tesla coil make the device popular for scientific exhibitions but the principles underlying the coil were also important to the development of radio technology', 'The Tesla coil was invented by Serbian American inventor Nikola Tesla in  Tesla was primarily interested in its potential to wirelessly transmit electricity particularly for lighting He hoped to build large coils scattered across Earth each of which would provide power to any device with a receiver coil However he had little success with this plan  In  Tesla gave a lecture and demonstration on wireless transmission in which he proposed signal transmission in conjunction with power transmission He also obtained a patent describing the same principles which is considered the first radio patent', 'A Tesla coil is an electrical transformer or a device that raises or lowers voltage which is a measure of electrical potential A Tesla coil generates very high voltage often in excess of one million volts  It uses AC electricity meaning that the voltage of the circuit changes at a particular frequency A modern Tesla coil usually consists of an initial transformer that boosts voltage from the power source and sends it to a capacitor attached to the primary coil which absorbs the highvoltage power When the capacitor reaches a sufficiently high voltage electricity flows across a spark gap or a space between two highconducting terminals at a high frequency creating an AC current in the primary coil', 'One of the key principles of the Tesla coil is resonanceachieving the frequency at which the devices primary coil induces maximum voltage in the secondary coil This is achieved through magnetic coupling also called inductive coupling The two coils are not tied together with a conductor rather electricity is run through the primary coil which creates a magnetic field This magnetic field creates an electrical current in the secondary coil at a much higher voltage To achieve this increase in voltage the secondary coil must have many more windings than the primary coil Frequently the primary coil has only one or two windings while the secondary may have hundreds or thousands The secondary coil also contains a capacitor which builds up extremely high voltage', 'The resulting high voltage results in a magnetic field so strong that arcs of electricity flow like lightning from the Tesla coil to nearby objects These lightninglike discharges can even flow to people but this is usually dangerous only if a nearby person  has a pacemaker or other medical device that could be affected by the Tesla coil Though the voltages are very high  the impedance of the coil is high enough that only a small current is produced in humans who interact with it and the frequency of the current is such that it has little interaction with nerve cells A popular demonstration of a Tesla coil is to have a person hold a metal rod in one hand and a lightbulb in the other Holding the rod close to the coil produces an arc of electricity that travels through the persons body and lights the bulb Fluorescent lightbulbs and other devices can also be powered by proximity to the Tesla coil even without drawing an arc It was this ability to produce wireless power that Tesla found so compelling']\n"
          ]
        },
        {
          "output_type": "execute_result",
          "data": {
            "text/plain": [
              "'\\n[^a-zA-Z0-9\\\\s]: This is the regular expression pattern itself,\\nwhich matches any character that is not (^ inside square brackets negates the character class) a lowercase letter (a-z),\\nan uppercase letter (A-Z), a digit (0-9), or whitespace (\\\\s).\\n'"
            ],
            "application/vnd.google.colaboratory.intrinsic+json": {
              "type": "string"
            }
          },
          "metadata": {},
          "execution_count": 5
        }
      ]
    },
    {
      "cell_type": "markdown",
      "source": [
        "# Normalization"
      ],
      "metadata": {
        "id": "8g2Py1wm4FQu"
      }
    },
    {
      "cell_type": "code",
      "source": [
        "topics = [topic.lower() for topic in topics]\n",
        "print(topics)"
      ],
      "metadata": {
        "id": "HIgYABqBoAix",
        "colab": {
          "base_uri": "https://localhost:8080/"
        },
        "outputId": "3de19f5b-a83e-4fcd-9e9f-b74f0feed597"
      },
      "execution_count": null,
      "outputs": [
        {
          "output_type": "stream",
          "name": "stdout",
          "text": [
            "['tesla coil  an electrical transformer that uses highfrequency alternating current ac to increase voltage because of its extremely high voltage the electricity in a tesla coil can travel through the air poweringor damagingnearby electronic devices often with arcs of lightninglike electricity though the tesla coil produces extremely high voltage the high frequency of the current generally makes it possible for most people to approach the device and even be struck by the arcs without suffering injury the spectacular effects created by the tesla coil make the device popular for scientific exhibitions but the principles underlying the coil were also important to the development of radio technology', 'the tesla coil was invented by serbian american inventor nikola tesla in  tesla was primarily interested in its potential to wirelessly transmit electricity particularly for lighting he hoped to build large coils scattered across earth each of which would provide power to any device with a receiver coil however he had little success with this plan  in  tesla gave a lecture and demonstration on wireless transmission in which he proposed signal transmission in conjunction with power transmission he also obtained a patent describing the same principles which is considered the first radio patent', 'a tesla coil is an electrical transformer or a device that raises or lowers voltage which is a measure of electrical potential a tesla coil generates very high voltage often in excess of one million volts  it uses ac electricity meaning that the voltage of the circuit changes at a particular frequency a modern tesla coil usually consists of an initial transformer that boosts voltage from the power source and sends it to a capacitor attached to the primary coil which absorbs the highvoltage power when the capacitor reaches a sufficiently high voltage electricity flows across a spark gap or a space between two highconducting terminals at a high frequency creating an ac current in the primary coil', 'one of the key principles of the tesla coil is resonanceachieving the frequency at which the devices primary coil induces maximum voltage in the secondary coil this is achieved through magnetic coupling also called inductive coupling the two coils are not tied together with a conductor rather electricity is run through the primary coil which creates a magnetic field this magnetic field creates an electrical current in the secondary coil at a much higher voltage to achieve this increase in voltage the secondary coil must have many more windings than the primary coil frequently the primary coil has only one or two windings while the secondary may have hundreds or thousands the secondary coil also contains a capacitor which builds up extremely high voltage', 'the resulting high voltage results in a magnetic field so strong that arcs of electricity flow like lightning from the tesla coil to nearby objects these lightninglike discharges can even flow to people but this is usually dangerous only if a nearby person  has a pacemaker or other medical device that could be affected by the tesla coil though the voltages are very high  the impedance of the coil is high enough that only a small current is produced in humans who interact with it and the frequency of the current is such that it has little interaction with nerve cells a popular demonstration of a tesla coil is to have a person hold a metal rod in one hand and a lightbulb in the other holding the rod close to the coil produces an arc of electricity that travels through the persons body and lights the bulb fluorescent lightbulbs and other devices can also be powered by proximity to the tesla coil even without drawing an arc it was this ability to produce wireless power that tesla found so compelling']\n"
          ]
        }
      ]
    },
    {
      "cell_type": "markdown",
      "source": [
        "# Tokenization"
      ],
      "metadata": {
        "id": "AvYA2JAW4Y9E"
      }
    },
    {
      "cell_type": "code",
      "source": [
        "topics = [topic.split() for topic in topics]\n",
        "print(topics)"
      ],
      "metadata": {
        "colab": {
          "base_uri": "https://localhost:8080/"
        },
        "id": "yE9wLxTJ4Wwx",
        "outputId": "e0f019b4-ecd9-459c-c644-ab526c17a56e"
      },
      "execution_count": null,
      "outputs": [
        {
          "output_type": "stream",
          "name": "stdout",
          "text": [
            "[['tesla', 'coil', 'an', 'electrical', 'transformer', 'that', 'uses', 'highfrequency', 'alternating', 'current', 'ac', 'to', 'increase', 'voltage', 'because', 'of', 'its', 'extremely', 'high', 'voltage', 'the', 'electricity', 'in', 'a', 'tesla', 'coil', 'can', 'travel', 'through', 'the', 'air', 'poweringor', 'damagingnearby', 'electronic', 'devices', 'often', 'with', 'arcs', 'of', 'lightninglike', 'electricity', 'though', 'the', 'tesla', 'coil', 'produces', 'extremely', 'high', 'voltage', 'the', 'high', 'frequency', 'of', 'the', 'current', 'generally', 'makes', 'it', 'possible', 'for', 'most', 'people', 'to', 'approach', 'the', 'device', 'and', 'even', 'be', 'struck', 'by', 'the', 'arcs', 'without', 'suffering', 'injury', 'the', 'spectacular', 'effects', 'created', 'by', 'the', 'tesla', 'coil', 'make', 'the', 'device', 'popular', 'for', 'scientific', 'exhibitions', 'but', 'the', 'principles', 'underlying', 'the', 'coil', 'were', 'also', 'important', 'to', 'the', 'development', 'of', 'radio', 'technology'], ['the', 'tesla', 'coil', 'was', 'invented', 'by', 'serbian', 'american', 'inventor', 'nikola', 'tesla', 'in', 'tesla', 'was', 'primarily', 'interested', 'in', 'its', 'potential', 'to', 'wirelessly', 'transmit', 'electricity', 'particularly', 'for', 'lighting', 'he', 'hoped', 'to', 'build', 'large', 'coils', 'scattered', 'across', 'earth', 'each', 'of', 'which', 'would', 'provide', 'power', 'to', 'any', 'device', 'with', 'a', 'receiver', 'coil', 'however', 'he', 'had', 'little', 'success', 'with', 'this', 'plan', 'in', 'tesla', 'gave', 'a', 'lecture', 'and', 'demonstration', 'on', 'wireless', 'transmission', 'in', 'which', 'he', 'proposed', 'signal', 'transmission', 'in', 'conjunction', 'with', 'power', 'transmission', 'he', 'also', 'obtained', 'a', 'patent', 'describing', 'the', 'same', 'principles', 'which', 'is', 'considered', 'the', 'first', 'radio', 'patent'], ['a', 'tesla', 'coil', 'is', 'an', 'electrical', 'transformer', 'or', 'a', 'device', 'that', 'raises', 'or', 'lowers', 'voltage', 'which', 'is', 'a', 'measure', 'of', 'electrical', 'potential', 'a', 'tesla', 'coil', 'generates', 'very', 'high', 'voltage', 'often', 'in', 'excess', 'of', 'one', 'million', 'volts', 'it', 'uses', 'ac', 'electricity', 'meaning', 'that', 'the', 'voltage', 'of', 'the', 'circuit', 'changes', 'at', 'a', 'particular', 'frequency', 'a', 'modern', 'tesla', 'coil', 'usually', 'consists', 'of', 'an', 'initial', 'transformer', 'that', 'boosts', 'voltage', 'from', 'the', 'power', 'source', 'and', 'sends', 'it', 'to', 'a', 'capacitor', 'attached', 'to', 'the', 'primary', 'coil', 'which', 'absorbs', 'the', 'highvoltage', 'power', 'when', 'the', 'capacitor', 'reaches', 'a', 'sufficiently', 'high', 'voltage', 'electricity', 'flows', 'across', 'a', 'spark', 'gap', 'or', 'a', 'space', 'between', 'two', 'highconducting', 'terminals', 'at', 'a', 'high', 'frequency', 'creating', 'an', 'ac', 'current', 'in', 'the', 'primary', 'coil'], ['one', 'of', 'the', 'key', 'principles', 'of', 'the', 'tesla', 'coil', 'is', 'resonanceachieving', 'the', 'frequency', 'at', 'which', 'the', 'devices', 'primary', 'coil', 'induces', 'maximum', 'voltage', 'in', 'the', 'secondary', 'coil', 'this', 'is', 'achieved', 'through', 'magnetic', 'coupling', 'also', 'called', 'inductive', 'coupling', 'the', 'two', 'coils', 'are', 'not', 'tied', 'together', 'with', 'a', 'conductor', 'rather', 'electricity', 'is', 'run', 'through', 'the', 'primary', 'coil', 'which', 'creates', 'a', 'magnetic', 'field', 'this', 'magnetic', 'field', 'creates', 'an', 'electrical', 'current', 'in', 'the', 'secondary', 'coil', 'at', 'a', 'much', 'higher', 'voltage', 'to', 'achieve', 'this', 'increase', 'in', 'voltage', 'the', 'secondary', 'coil', 'must', 'have', 'many', 'more', 'windings', 'than', 'the', 'primary', 'coil', 'frequently', 'the', 'primary', 'coil', 'has', 'only', 'one', 'or', 'two', 'windings', 'while', 'the', 'secondary', 'may', 'have', 'hundreds', 'or', 'thousands', 'the', 'secondary', 'coil', 'also', 'contains', 'a', 'capacitor', 'which', 'builds', 'up', 'extremely', 'high', 'voltage'], ['the', 'resulting', 'high', 'voltage', 'results', 'in', 'a', 'magnetic', 'field', 'so', 'strong', 'that', 'arcs', 'of', 'electricity', 'flow', 'like', 'lightning', 'from', 'the', 'tesla', 'coil', 'to', 'nearby', 'objects', 'these', 'lightninglike', 'discharges', 'can', 'even', 'flow', 'to', 'people', 'but', 'this', 'is', 'usually', 'dangerous', 'only', 'if', 'a', 'nearby', 'person', 'has', 'a', 'pacemaker', 'or', 'other', 'medical', 'device', 'that', 'could', 'be', 'affected', 'by', 'the', 'tesla', 'coil', 'though', 'the', 'voltages', 'are', 'very', 'high', 'the', 'impedance', 'of', 'the', 'coil', 'is', 'high', 'enough', 'that', 'only', 'a', 'small', 'current', 'is', 'produced', 'in', 'humans', 'who', 'interact', 'with', 'it', 'and', 'the', 'frequency', 'of', 'the', 'current', 'is', 'such', 'that', 'it', 'has', 'little', 'interaction', 'with', 'nerve', 'cells', 'a', 'popular', 'demonstration', 'of', 'a', 'tesla', 'coil', 'is', 'to', 'have', 'a', 'person', 'hold', 'a', 'metal', 'rod', 'in', 'one', 'hand', 'and', 'a', 'lightbulb', 'in', 'the', 'other', 'holding', 'the', 'rod', 'close', 'to', 'the', 'coil', 'produces', 'an', 'arc', 'of', 'electricity', 'that', 'travels', 'through', 'the', 'persons', 'body', 'and', 'lights', 'the', 'bulb', 'fluorescent', 'lightbulbs', 'and', 'other', 'devices', 'can', 'also', 'be', 'powered', 'by', 'proximity', 'to', 'the', 'tesla', 'coil', 'even', 'without', 'drawing', 'an', 'arc', 'it', 'was', 'this', 'ability', 'to', 'produce', 'wireless', 'power', 'that', 'tesla', 'found', 'so', 'compelling']]\n"
          ]
        }
      ]
    },
    {
      "cell_type": "markdown",
      "source": [
        "# Stemming"
      ],
      "metadata": {
        "id": "nb7TjtWL8MNR"
      }
    },
    {
      "cell_type": "code",
      "source": [
        "snowball_stemmer = SnowballStemmer(\"english\")\n",
        "topics = [snowball_stemmer.stem(word)  for topic in topics for word in topic]\n",
        "print(topics)\n",
        "\"\"\"\n",
        "The Snowball Stemmer algorithm, also known as the Porter2 stemming algorithm,\n",
        "is an algorithm for stemming words in natural language processing (NLP).\n",
        "It's better than Porter1 stemming.\n",
        "\"\"\""
      ],
      "metadata": {
        "colab": {
          "base_uri": "https://localhost:8080/",
          "height": 92
        },
        "id": "TLDLRtpO5X0E",
        "outputId": "1eb102fc-46cd-4643-c6f0-0f8b0ba348d2"
      },
      "execution_count": null,
      "outputs": [
        {
          "output_type": "stream",
          "name": "stdout",
          "text": [
            "['tesla', 'coil', 'an', 'electr', 'transform', 'that', 'use', 'highfrequ', 'altern', 'current', 'ac', 'to', 'increas', 'voltag', 'becaus', 'of', 'it', 'extrem', 'high', 'voltag', 'the', 'electr', 'in', 'a', 'tesla', 'coil', 'can', 'travel', 'through', 'the', 'air', 'poweringor', 'damagingnearbi', 'electron', 'devic', 'often', 'with', 'arc', 'of', 'lightninglik', 'electr', 'though', 'the', 'tesla', 'coil', 'produc', 'extrem', 'high', 'voltag', 'the', 'high', 'frequenc', 'of', 'the', 'current', 'general', 'make', 'it', 'possibl', 'for', 'most', 'peopl', 'to', 'approach', 'the', 'devic', 'and', 'even', 'be', 'struck', 'by', 'the', 'arc', 'without', 'suffer', 'injuri', 'the', 'spectacular', 'effect', 'creat', 'by', 'the', 'tesla', 'coil', 'make', 'the', 'devic', 'popular', 'for', 'scientif', 'exhibit', 'but', 'the', 'principl', 'under', 'the', 'coil', 'were', 'also', 'import', 'to', 'the', 'develop', 'of', 'radio', 'technolog', 'the', 'tesla', 'coil', 'was', 'invent', 'by', 'serbian', 'american', 'inventor', 'nikola', 'tesla', 'in', 'tesla', 'was', 'primarili', 'interest', 'in', 'it', 'potenti', 'to', 'wireless', 'transmit', 'electr', 'particular', 'for', 'light', 'he', 'hope', 'to', 'build', 'larg', 'coil', 'scatter', 'across', 'earth', 'each', 'of', 'which', 'would', 'provid', 'power', 'to', 'ani', 'devic', 'with', 'a', 'receiv', 'coil', 'howev', 'he', 'had', 'littl', 'success', 'with', 'this', 'plan', 'in', 'tesla', 'gave', 'a', 'lectur', 'and', 'demonstr', 'on', 'wireless', 'transmiss', 'in', 'which', 'he', 'propos', 'signal', 'transmiss', 'in', 'conjunct', 'with', 'power', 'transmiss', 'he', 'also', 'obtain', 'a', 'patent', 'describ', 'the', 'same', 'principl', 'which', 'is', 'consid', 'the', 'first', 'radio', 'patent', 'a', 'tesla', 'coil', 'is', 'an', 'electr', 'transform', 'or', 'a', 'devic', 'that', 'rais', 'or', 'lower', 'voltag', 'which', 'is', 'a', 'measur', 'of', 'electr', 'potenti', 'a', 'tesla', 'coil', 'generat', 'veri', 'high', 'voltag', 'often', 'in', 'excess', 'of', 'one', 'million', 'volt', 'it', 'use', 'ac', 'electr', 'mean', 'that', 'the', 'voltag', 'of', 'the', 'circuit', 'chang', 'at', 'a', 'particular', 'frequenc', 'a', 'modern', 'tesla', 'coil', 'usual', 'consist', 'of', 'an', 'initi', 'transform', 'that', 'boost', 'voltag', 'from', 'the', 'power', 'sourc', 'and', 'send', 'it', 'to', 'a', 'capacitor', 'attach', 'to', 'the', 'primari', 'coil', 'which', 'absorb', 'the', 'highvoltag', 'power', 'when', 'the', 'capacitor', 'reach', 'a', 'suffici', 'high', 'voltag', 'electr', 'flow', 'across', 'a', 'spark', 'gap', 'or', 'a', 'space', 'between', 'two', 'highconduct', 'termin', 'at', 'a', 'high', 'frequenc', 'creat', 'an', 'ac', 'current', 'in', 'the', 'primari', 'coil', 'one', 'of', 'the', 'key', 'principl', 'of', 'the', 'tesla', 'coil', 'is', 'resonanceachiev', 'the', 'frequenc', 'at', 'which', 'the', 'devic', 'primari', 'coil', 'induc', 'maximum', 'voltag', 'in', 'the', 'secondari', 'coil', 'this', 'is', 'achiev', 'through', 'magnet', 'coupl', 'also', 'call', 'induct', 'coupl', 'the', 'two', 'coil', 'are', 'not', 'tie', 'togeth', 'with', 'a', 'conductor', 'rather', 'electr', 'is', 'run', 'through', 'the', 'primari', 'coil', 'which', 'creat', 'a', 'magnet', 'field', 'this', 'magnet', 'field', 'creat', 'an', 'electr', 'current', 'in', 'the', 'secondari', 'coil', 'at', 'a', 'much', 'higher', 'voltag', 'to', 'achiev', 'this', 'increas', 'in', 'voltag', 'the', 'secondari', 'coil', 'must', 'have', 'mani', 'more', 'wind', 'than', 'the', 'primari', 'coil', 'frequent', 'the', 'primari', 'coil', 'has', 'onli', 'one', 'or', 'two', 'wind', 'while', 'the', 'secondari', 'may', 'have', 'hundr', 'or', 'thousand', 'the', 'secondari', 'coil', 'also', 'contain', 'a', 'capacitor', 'which', 'build', 'up', 'extrem', 'high', 'voltag', 'the', 'result', 'high', 'voltag', 'result', 'in', 'a', 'magnet', 'field', 'so', 'strong', 'that', 'arc', 'of', 'electr', 'flow', 'like', 'lightn', 'from', 'the', 'tesla', 'coil', 'to', 'nearbi', 'object', 'these', 'lightninglik', 'discharg', 'can', 'even', 'flow', 'to', 'peopl', 'but', 'this', 'is', 'usual', 'danger', 'onli', 'if', 'a', 'nearbi', 'person', 'has', 'a', 'pacemak', 'or', 'other', 'medic', 'devic', 'that', 'could', 'be', 'affect', 'by', 'the', 'tesla', 'coil', 'though', 'the', 'voltag', 'are', 'veri', 'high', 'the', 'imped', 'of', 'the', 'coil', 'is', 'high', 'enough', 'that', 'onli', 'a', 'small', 'current', 'is', 'produc', 'in', 'human', 'who', 'interact', 'with', 'it', 'and', 'the', 'frequenc', 'of', 'the', 'current', 'is', 'such', 'that', 'it', 'has', 'littl', 'interact', 'with', 'nerv', 'cell', 'a', 'popular', 'demonstr', 'of', 'a', 'tesla', 'coil', 'is', 'to', 'have', 'a', 'person', 'hold', 'a', 'metal', 'rod', 'in', 'one', 'hand', 'and', 'a', 'lightbulb', 'in', 'the', 'other', 'hold', 'the', 'rod', 'close', 'to', 'the', 'coil', 'produc', 'an', 'arc', 'of', 'electr', 'that', 'travel', 'through', 'the', 'person', 'bodi', 'and', 'light', 'the', 'bulb', 'fluoresc', 'lightbulb', 'and', 'other', 'devic', 'can', 'also', 'be', 'power', 'by', 'proxim', 'to', 'the', 'tesla', 'coil', 'even', 'without', 'draw', 'an', 'arc', 'it', 'was', 'this', 'abil', 'to', 'produc', 'wireless', 'power', 'that', 'tesla', 'found', 'so', 'compel']\n"
          ]
        },
        {
          "output_type": "execute_result",
          "data": {
            "text/plain": [
              "\"\\nThe Snowball Stemmer algorithm, also known as the Porter2 stemming algorithm,\\nis an algorithm for stemming words in natural language processing (NLP).\\nIt's better than Porter1 stemming.\\n\""
            ],
            "application/vnd.google.colaboratory.intrinsic+json": {
              "type": "string"
            }
          },
          "metadata": {},
          "execution_count": 8
        }
      ]
    },
    {
      "cell_type": "markdown",
      "source": [
        "# Removing Stopping words"
      ],
      "metadata": {
        "id": "llbY1a5O8Q6B"
      }
    },
    {
      "cell_type": "code",
      "source": [
        "stop_words = set(list(stop_words) + ['ac'])\n",
        "topics = [word for word in topics if word.lower() not in (stop_words)]\n",
        "print(topics)"
      ],
      "metadata": {
        "colab": {
          "base_uri": "https://localhost:8080/"
        },
        "id": "KQNR73G56uTw",
        "outputId": "bf20aed1-2814-4306-83b2-0f7c8463fd5f"
      },
      "execution_count": null,
      "outputs": [
        {
          "output_type": "stream",
          "name": "stdout",
          "text": [
            "['tesla', 'coil', 'electr', 'transform', 'use', 'highfrequ', 'altern', 'current', 'increas', 'voltag', 'becaus', 'extrem', 'high', 'voltag', 'electr', 'tesla', 'coil', 'travel', 'air', 'poweringor', 'damagingnearbi', 'electron', 'devic', 'often', 'arc', 'lightninglik', 'electr', 'though', 'tesla', 'coil', 'produc', 'extrem', 'high', 'voltag', 'high', 'frequenc', 'current', 'general', 'make', 'possibl', 'peopl', 'approach', 'devic', 'even', 'struck', 'arc', 'without', 'suffer', 'injuri', 'spectacular', 'effect', 'creat', 'tesla', 'coil', 'make', 'devic', 'popular', 'scientif', 'exhibit', 'principl', 'coil', 'also', 'import', 'develop', 'radio', 'technolog', 'tesla', 'coil', 'invent', 'serbian', 'american', 'inventor', 'nikola', 'tesla', 'tesla', 'primarili', 'interest', 'potenti', 'wireless', 'transmit', 'electr', 'particular', 'light', 'hope', 'build', 'larg', 'coil', 'scatter', 'across', 'earth', 'would', 'provid', 'power', 'ani', 'devic', 'receiv', 'coil', 'howev', 'littl', 'success', 'plan', 'tesla', 'gave', 'lectur', 'demonstr', 'wireless', 'transmiss', 'propos', 'signal', 'transmiss', 'conjunct', 'power', 'transmiss', 'also', 'obtain', 'patent', 'describ', 'principl', 'consid', 'first', 'radio', 'patent', 'tesla', 'coil', 'electr', 'transform', 'devic', 'rais', 'lower', 'voltag', 'measur', 'electr', 'potenti', 'tesla', 'coil', 'generat', 'veri', 'high', 'voltag', 'often', 'excess', 'one', 'million', 'volt', 'use', 'electr', 'mean', 'voltag', 'circuit', 'chang', 'particular', 'frequenc', 'modern', 'tesla', 'coil', 'usual', 'consist', 'initi', 'transform', 'boost', 'voltag', 'power', 'sourc', 'send', 'capacitor', 'attach', 'primari', 'coil', 'absorb', 'highvoltag', 'power', 'capacitor', 'reach', 'suffici', 'high', 'voltag', 'electr', 'flow', 'across', 'spark', 'gap', 'space', 'two', 'highconduct', 'termin', 'high', 'frequenc', 'creat', 'current', 'primari', 'coil', 'one', 'key', 'principl', 'tesla', 'coil', 'resonanceachiev', 'frequenc', 'devic', 'primari', 'coil', 'induc', 'maximum', 'voltag', 'secondari', 'coil', 'achiev', 'magnet', 'coupl', 'also', 'call', 'induct', 'coupl', 'two', 'coil', 'tie', 'togeth', 'conductor', 'rather', 'electr', 'run', 'primari', 'coil', 'creat', 'magnet', 'field', 'magnet', 'field', 'creat', 'electr', 'current', 'secondari', 'coil', 'much', 'higher', 'voltag', 'achiev', 'increas', 'voltag', 'secondari', 'coil', 'must', 'mani', 'wind', 'primari', 'coil', 'frequent', 'primari', 'coil', 'onli', 'one', 'two', 'wind', 'secondari', 'may', 'hundr', 'thousand', 'secondari', 'coil', 'also', 'contain', 'capacitor', 'build', 'extrem', 'high', 'voltag', 'result', 'high', 'voltag', 'result', 'magnet', 'field', 'strong', 'arc', 'electr', 'flow', 'like', 'lightn', 'tesla', 'coil', 'nearbi', 'object', 'lightninglik', 'discharg', 'even', 'flow', 'peopl', 'usual', 'danger', 'onli', 'nearbi', 'person', 'pacemak', 'medic', 'devic', 'could', 'affect', 'tesla', 'coil', 'though', 'voltag', 'veri', 'high', 'imped', 'coil', 'high', 'enough', 'onli', 'small', 'current', 'produc', 'human', 'interact', 'frequenc', 'current', 'littl', 'interact', 'nerv', 'cell', 'popular', 'demonstr', 'tesla', 'coil', 'person', 'hold', 'metal', 'rod', 'one', 'hand', 'lightbulb', 'hold', 'rod', 'close', 'coil', 'produc', 'arc', 'electr', 'travel', 'person', 'bodi', 'light', 'bulb', 'fluoresc', 'lightbulb', 'devic', 'also', 'power', 'proxim', 'tesla', 'coil', 'even', 'without', 'draw', 'arc', 'abil', 'produc', 'wireless', 'power', 'tesla', 'found', 'compel']\n"
          ]
        }
      ]
    },
    {
      "cell_type": "markdown",
      "source": [
        "# Getting unique words"
      ],
      "metadata": {
        "id": "15g9FAbUjves"
      }
    },
    {
      "cell_type": "code",
      "source": [
        "indices = np.unique(topics, return_index=True)[1]\n",
        "print(np.array(topics)[np.sort(indices)])"
      ],
      "metadata": {
        "colab": {
          "base_uri": "https://localhost:8080/"
        },
        "id": "wlNceHGCjztc",
        "outputId": "aff047b4-ecc5-4949-e9ee-111c1c3fd224"
      },
      "execution_count": null,
      "outputs": [
        {
          "output_type": "stream",
          "name": "stdout",
          "text": [
            "['tesla' 'coil' 'electr' 'transform' 'use' 'highfrequ' 'altern' 'current'\n",
            " 'increas' 'voltag' 'becaus' 'extrem' 'high' 'travel' 'air' 'poweringor'\n",
            " 'damagingnearbi' 'electron' 'devic' 'often' 'arc' 'lightninglik' 'though'\n",
            " 'produc' 'frequenc' 'general' 'make' 'possibl' 'peopl' 'approach' 'even'\n",
            " 'struck' 'without' 'suffer' 'injuri' 'spectacular' 'effect' 'creat'\n",
            " 'popular' 'scientif' 'exhibit' 'principl' 'also' 'import' 'develop'\n",
            " 'radio' 'technolog' 'invent' 'serbian' 'american' 'inventor' 'nikola'\n",
            " 'primarili' 'interest' 'potenti' 'wireless' 'transmit' 'particular'\n",
            " 'light' 'hope' 'build' 'larg' 'scatter' 'across' 'earth' 'would' 'provid'\n",
            " 'power' 'ani' 'receiv' 'howev' 'littl' 'success' 'plan' 'gave' 'lectur'\n",
            " 'demonstr' 'transmiss' 'propos' 'signal' 'conjunct' 'obtain' 'patent'\n",
            " 'describ' 'consid' 'first' 'rais' 'lower' 'measur' 'generat' 'veri'\n",
            " 'excess' 'one' 'million' 'volt' 'mean' 'circuit' 'chang' 'modern' 'usual'\n",
            " 'consist' 'initi' 'boost' 'sourc' 'send' 'capacitor' 'attach' 'primari'\n",
            " 'absorb' 'highvoltag' 'reach' 'suffici' 'flow' 'spark' 'gap' 'space'\n",
            " 'two' 'highconduct' 'termin' 'key' 'resonanceachiev' 'induc' 'maximum'\n",
            " 'secondari' 'achiev' 'magnet' 'coupl' 'call' 'induct' 'tie' 'togeth'\n",
            " 'conductor' 'rather' 'run' 'field' 'much' 'higher' 'must' 'mani' 'wind'\n",
            " 'frequent' 'onli' 'may' 'hundr' 'thousand' 'contain' 'result' 'strong'\n",
            " 'like' 'lightn' 'nearbi' 'object' 'discharg' 'danger' 'person' 'pacemak'\n",
            " 'medic' 'could' 'affect' 'imped' 'enough' 'small' 'human' 'interact'\n",
            " 'nerv' 'cell' 'hold' 'metal' 'rod' 'hand' 'lightbulb' 'close' 'bodi'\n",
            " 'bulb' 'fluoresc' 'proxim' 'draw' 'abil' 'found' 'compel']\n"
          ]
        }
      ]
    }
  ]
}